{
  "nbformat": 4,
  "nbformat_minor": 0,
  "metadata": {
    "colab": {
      "provenance": []
    },
    "kernelspec": {
      "name": "python3",
      "display_name": "Python 3"
    },
    "language_info": {
      "name": "python"
    },
    "widgets": {
      "application/vnd.jupyter.widget-state+json": {
        "d8cd43d9a3a041ea84264d456d814fb9": {
          "model_module": "@jupyter-widgets/controls",
          "model_name": "TextModel",
          "model_module_version": "1.5.0",
          "state": {
            "_dom_classes": [],
            "_model_module": "@jupyter-widgets/controls",
            "_model_module_version": "1.5.0",
            "_model_name": "TextModel",
            "_view_count": null,
            "_view_module": "@jupyter-widgets/controls",
            "_view_module_version": "1.5.0",
            "_view_name": "TextView",
            "continuous_update": true,
            "description": "You:",
            "description_tooltip": null,
            "disabled": false,
            "layout": "IPY_MODEL_3daa8924276641ccbe5bbcd6adc9ad4f",
            "placeholder": "Type your message here",
            "style": "IPY_MODEL_3dfcaffd59c04457a7001e215ad5054b",
            "value": ""
          }
        },
        "3daa8924276641ccbe5bbcd6adc9ad4f": {
          "model_module": "@jupyter-widgets/base",
          "model_name": "LayoutModel",
          "model_module_version": "1.2.0",
          "state": {
            "_model_module": "@jupyter-widgets/base",
            "_model_module_version": "1.2.0",
            "_model_name": "LayoutModel",
            "_view_count": null,
            "_view_module": "@jupyter-widgets/base",
            "_view_module_version": "1.2.0",
            "_view_name": "LayoutView",
            "align_content": null,
            "align_items": null,
            "align_self": null,
            "border": null,
            "bottom": null,
            "display": null,
            "flex": null,
            "flex_flow": null,
            "grid_area": null,
            "grid_auto_columns": null,
            "grid_auto_flow": null,
            "grid_auto_rows": null,
            "grid_column": null,
            "grid_gap": null,
            "grid_row": null,
            "grid_template_areas": null,
            "grid_template_columns": null,
            "grid_template_rows": null,
            "height": null,
            "justify_content": null,
            "justify_items": null,
            "left": null,
            "margin": null,
            "max_height": null,
            "max_width": null,
            "min_height": null,
            "min_width": null,
            "object_fit": null,
            "object_position": null,
            "order": null,
            "overflow": null,
            "overflow_x": null,
            "overflow_y": null,
            "padding": null,
            "right": null,
            "top": null,
            "visibility": null,
            "width": null
          }
        },
        "3dfcaffd59c04457a7001e215ad5054b": {
          "model_module": "@jupyter-widgets/controls",
          "model_name": "DescriptionStyleModel",
          "model_module_version": "1.5.0",
          "state": {
            "_model_module": "@jupyter-widgets/controls",
            "_model_module_version": "1.5.0",
            "_model_name": "DescriptionStyleModel",
            "_view_count": null,
            "_view_module": "@jupyter-widgets/base",
            "_view_module_version": "1.2.0",
            "_view_name": "StyleView",
            "description_width": ""
          }
        },
        "4b3593c236b94ad8b0227eaf13dc750b": {
          "model_module": "@jupyter-widgets/output",
          "model_name": "OutputModel",
          "model_module_version": "1.0.0",
          "state": {
            "_dom_classes": [],
            "_model_module": "@jupyter-widgets/output",
            "_model_module_version": "1.0.0",
            "_model_name": "OutputModel",
            "_view_count": null,
            "_view_module": "@jupyter-widgets/output",
            "_view_module_version": "1.0.0",
            "_view_name": "OutputView",
            "layout": "IPY_MODEL_20a968c41fe5476fa2d6a02e9acbe0e2",
            "msg_id": "",
            "outputs": [
              {
                "output_type": "stream",
                "name": "stdout",
                "text": [
                  "You: bye\n",
                  "Bot: Goodbye! Have a great day!\n"
                ]
              }
            ]
          }
        },
        "20a968c41fe5476fa2d6a02e9acbe0e2": {
          "model_module": "@jupyter-widgets/base",
          "model_name": "LayoutModel",
          "model_module_version": "1.2.0",
          "state": {
            "_model_module": "@jupyter-widgets/base",
            "_model_module_version": "1.2.0",
            "_model_name": "LayoutModel",
            "_view_count": null,
            "_view_module": "@jupyter-widgets/base",
            "_view_module_version": "1.2.0",
            "_view_name": "LayoutView",
            "align_content": null,
            "align_items": null,
            "align_self": null,
            "border": null,
            "bottom": null,
            "display": null,
            "flex": null,
            "flex_flow": null,
            "grid_area": null,
            "grid_auto_columns": null,
            "grid_auto_flow": null,
            "grid_auto_rows": null,
            "grid_column": null,
            "grid_gap": null,
            "grid_row": null,
            "grid_template_areas": null,
            "grid_template_columns": null,
            "grid_template_rows": null,
            "height": null,
            "justify_content": null,
            "justify_items": null,
            "left": null,
            "margin": null,
            "max_height": null,
            "max_width": null,
            "min_height": null,
            "min_width": null,
            "object_fit": null,
            "object_position": null,
            "order": null,
            "overflow": null,
            "overflow_x": null,
            "overflow_y": null,
            "padding": null,
            "right": null,
            "top": null,
            "visibility": null,
            "width": null
          }
        }
      }
    }
  },
  "cells": [
    {
      "cell_type": "code",
      "source": [
        "import re\n",
        "import nltk"
      ],
      "metadata": {
        "id": "yqpi6ZWALfI4"
      },
      "execution_count": null,
      "outputs": []
    },
    {
      "cell_type": "code",
      "source": [
        "import re\n",
        "from datetime import datetime\n",
        "import ipywidgets as widgets\n",
        "from IPython.display import display\n",
        "\n",
        "# Simple rule-based chatbot function\n",
        "def simple_chatbot(user_input):\n",
        "    user_input = user_input.lower()\n",
        "\n",
        "    if re.search(r\"hi|hello|hey\", user_input):\n",
        "        return \"Hello! How can I help you?\"\n",
        "    elif re.search(r\"your name\", user_input):\n",
        "        return \"I'm a simple rule-based chatbot.\"\n",
        "    elif re.search(r\"time\", user_input):\n",
        "        return f\"The current time is {datetime.now().strftime('%H:%M:%S')}\"\n",
        "    elif re.search(r\"bye|exit|quit\", user_input):\n",
        "        return \"Goodbye! Have a great day!\"\n",
        "    else:\n",
        "        return \"I'm not sure how to respond to that.\"\n",
        "\n",
        "# Create input box widget\n",
        "input_box = widgets.Text(\n",
        "    value='',\n",
        "    placeholder='Type your message here',\n",
        "    description='You:',\n",
        "    disabled=False\n",
        ")\n",
        "\n",
        "output_box = widgets.Output()\n",
        "\n",
        "# Function to run when user presses Enter\n",
        "def on_enter(change):\n",
        "    with output_box:\n",
        "        output_box.clear_output()\n",
        "        response = simple_chatbot(change.value)  # ✅ Correct attribute\n",
        "        print(f\"You: {change.value}\")\n",
        "        print(\"Bot:\", response)\n",
        "        input_box.value = ''  # Clear input after submit\n",
        "\n",
        "input_box.on_submit(on_enter)\n",
        "\n",
        "# Display input + output\n",
        "display(input_box, output_box)\n"
      ],
      "metadata": {
        "colab": {
          "base_uri": "https://localhost:8080/",
          "height": 84,
          "referenced_widgets": [
            "d8cd43d9a3a041ea84264d456d814fb9",
            "3daa8924276641ccbe5bbcd6adc9ad4f",
            "3dfcaffd59c04457a7001e215ad5054b",
            "4b3593c236b94ad8b0227eaf13dc750b",
            "20a968c41fe5476fa2d6a02e9acbe0e2"
          ]
        },
        "id": "SVHUwwTLLlz3",
        "outputId": "c8ba1009-6ff1-455b-c6ce-3e63d96a547a"
      },
      "execution_count": null,
      "outputs": [
        {
          "output_type": "display_data",
          "data": {
            "text/plain": [
              "Text(value='', description='You:', placeholder='Type your message here')"
            ],
            "application/vnd.jupyter.widget-view+json": {
              "version_major": 2,
              "version_minor": 0,
              "model_id": "d8cd43d9a3a041ea84264d456d814fb9"
            }
          },
          "metadata": {}
        },
        {
          "output_type": "display_data",
          "data": {
            "text/plain": [
              "Output()"
            ],
            "application/vnd.jupyter.widget-view+json": {
              "version_major": 2,
              "version_minor": 0,
              "model_id": "4b3593c236b94ad8b0227eaf13dc750b"
            }
          },
          "metadata": {}
        }
      ]
    }
  ]
}